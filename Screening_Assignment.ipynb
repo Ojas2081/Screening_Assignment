{
  "cells": [
    {
      "cell_type": "markdown",
      "metadata": {
        "id": "iG2i12WJDU6z"
      },
      "source": [
        "Question 1)  Create a function in python to read the text file and replace specific content of the file.\n"
      ]
    },
    {
      "cell_type": "code",
      "execution_count": null,
      "metadata": {
        "id": "x0UgDVrRDFn_"
      },
      "outputs": [],
      "source": [
        "class FileOperations:\n",
        "\n",
        "  ''' This constructor takes the content of file and filename '''\n",
        "  def __init__(self,filename,content):\n",
        "    self.filename = filename\n",
        "    self.content = content\n",
        "\n",
        "  ''' File is created '''\n",
        "  def file_creation(self):\n",
        "    f = open(self.filename,'w')\n",
        "    f.write(self.content)\n",
        "    f.close()\n",
        "\n",
        "  ''' Read operation performed on the file '''\n",
        "  def read_file(self):\n",
        "    f = open(self.filename,'r')\n",
        "    print(f.read())\n",
        "    f.close()\n",
        "\n",
        "  ''' Replace the content of the file'''\n",
        "  def replace_file_items(self,item,to_change):\n",
        "    f=open(self.filename,'r')\n",
        "    file_data = f.read()\n",
        "    f.close()\n",
        "    f=open(self.filename,'w')\n",
        "    f.write(file_data.replace(item,to_change))\n",
        "    f.close()\n"
      ]
    },
    {
      "cell_type": "code",
      "execution_count": null,
      "metadata": {
        "id": "Nc8ZE65dF38d"
      },
      "outputs": [],
      "source": [
        "f1 = FileOperations('example.txt','This is a placement assignment')  # Here file name and content is instatiated with the object\n",
        "f1.file_creation()   #new file is created with our content and name\n",
        "f1.read_file()    # read our file   ''' This is a placement assignment '''\n",
        "f1.replace_file_items('placement','screening')   # here replace of word is done\n",
        "f1.read_file()     # read file      ''' This is screening assignment '''"
      ]
    },
    {
      "cell_type": "markdown",
      "metadata": {
        "id": "fnPWO2vzD4FW"
      },
      "source": [
        "Question 2) Demonstrate use of abstract class, multiple inheritance and decorator in python using examples."
      ]
    },
    {
      "cell_type": "markdown",
      "metadata": {},
      "source": [
        "Multiple inheritance Example"
      ]
    },
    {
      "cell_type": "code",
      "execution_count": null,
      "metadata": {
        "id": "QQhiB5SoC2e2"
      },
      "outputs": [],
      "source": [
        "# Multiple inheritance \n",
        "\n",
        "class Teacher:\n",
        "  def teach_add(self,a,b):\n",
        "    return a + b\n",
        "  def teach_sub(self,a,b):\n",
        "    return a - b\n",
        "\n",
        "class Employee:\n",
        "  def salary(self,salary,designation):\n",
        "    return f\"Salary is {salary} and Designation is {designation}\"\n",
        "\n",
        "class Sportsperson:\n",
        "  def play_cricket(self):\n",
        "    return 'I can play cricket' \n",
        "  def play_tt(self):\n",
        "    return 'I can play Table Tennis'\n",
        "\n",
        "class Human(Teacher,Employee,Sportsperson):\n",
        "  def human_being(self):\n",
        "    return \"I am a human\"\n",
        "\n"
      ]
    },
    {
      "cell_type": "code",
      "execution_count": null,
      "metadata": {
        "colab": {
          "base_uri": "https://localhost:8080/"
        },
        "id": "To8biAdeFQwv",
        "outputId": "18c8f84a-6f07-4e05-b23a-0f65215c1aab"
      },
      "outputs": [],
      "source": [
        "h1 = Human()    #Object of the derived class is created\n",
        "h1.teach_add(3,6)  # from derived class object we are calling methods of parent class\n",
        "h1.teach_sub(5,4)  # another method of parent class\n",
        "h1.salary(50000,'programmer')   \n",
        "h1.play_cricket()\n",
        "h1.play_tt()\n",
        "h1.human_being()"
      ]
    },
    {
      "cell_type": "markdown",
      "metadata": {},
      "source": [
        "Abstract Class Example"
      ]
    },
    {
      "cell_type": "code",
      "execution_count": null,
      "metadata": {
        "id": "MyL6qGyYFY4M"
      },
      "outputs": [],
      "source": [
        "# Abstract class example\n",
        "\n",
        "import numpy as np\n",
        "\n",
        "l=[5,3,6,1,4,2]\n",
        "\n",
        "''' Here we dont know how the operations are performed in \n",
        "the background but we are using mean and median method'''\n",
        "\n",
        "print(np.mean(l)) #will give you the mean of the list l\n",
        "print(np.median(l)) #will help to find median\n",
        "\n",
        "\n",
        "''' For sorting also there are many types of sorting method \n",
        "but we dont know which technique is used over here.\n",
        "We just know the passed list will be sorted '''\n",
        "\n",
        "l.sort() # will sort the list for you\n",
        "print(l)\n",
        "\n",
        "\n",
        "import math\n",
        "value = 5.9\n",
        "\n",
        "''' Here also we just imported math module and we are using \n",
        "ceil and floor function from math module we dont know how are they \n",
        "written but we know their functions'''\n",
        "\n",
        "print(math.ceil(value)) #find upper bound of the value\n",
        "print(math.floor(value)) #find lower bound of the value\n",
        "\n"
      ]
    },
    {
      "cell_type": "markdown",
      "metadata": {},
      "source": [
        "Decorator Example"
      ]
    },
    {
      "cell_type": "code",
      "execution_count": null,
      "metadata": {
        "colab": {
          "base_uri": "https://localhost:8080/"
        },
        "id": "NZs2K9CLPDPy",
        "outputId": "a387bb13-b504-49dd-8fac-98f262fe1073"
      },
      "outputs": [],
      "source": [
        "# Decorator example\n",
        "\n",
        "def decorator_my_func(any_function):\n",
        "  print(\"I\\'m in decorator function now \")\n",
        "  print(\"Let's begin to go to child function from decorator function\")\n",
        "  def wrapper(*args, **kwargs):\n",
        "    print(\"\\tI\\'ve entered wrapper\")\n",
        "    print(f\"\\targs = {args}\")\n",
        "    print(f\"\\tkwargs = {kwargs}\")\n",
        "    print(\"\\tawesome function\")\n",
        "    any_function(*args,**kwargs)\n",
        "    print(\"\\tExceution completed\")\n",
        "  return wrapper\n",
        "\n",
        "@decorator_my_func\n",
        "def func(*args,**kwargs):\n",
        "  print(\"\\tThis is func\")\n",
        "\n",
        "func('hi','hello','!!!',total_paramters=4)\n",
        "\n",
        "# Exceution\n",
        "\n",
        "#    I'm in decorator function now \n",
        "#    Let's begin to go to child function from decorator function\n",
        "#        I've entered wrapper\n",
        "#        args = ('hi', 'hello', '!!!')\n",
        "#        kwargs = {'total_paramters': 4}\n",
        "#        awesome function\n",
        "#        This is func\n",
        "#        Exceution completed  "
      ]
    },
    {
      "cell_type": "code",
      "execution_count": null,
      "metadata": {
        "colab": {
          "base_uri": "https://localhost:8080/"
        },
        "id": "-PyESk8WCuj1",
        "outputId": "cd80a8e6-fccc-408f-fc29-31f6a9fe2bfd"
      },
      "outputs": [],
      "source": [
        "# Decorator example\n",
        "\n",
        "def manager(any_func):\n",
        "  message1 = \"manager :- Good morning Sir!!! \\n\\t  Do you need any help ?\"\n",
        "  def wrapper(*args,**kwargs):\n",
        "    message2 = f'manager :- You may get a taxi {args[0]} minutes away'\n",
        "    print(message1)\n",
        "    any_func(*args)\n",
        "    print(message2)\n",
        "  return wrapper\n",
        "\n",
        "@manager\n",
        "def customer(*args,**kwargs):\n",
        "  print(\"customer :- Can i get a taxi nearby hotel\")\n",
        "\n",
        "customer(2,three=3)\n",
        "\n",
        "\n"
      ]
    }
  ],
  "metadata": {
    "colab": {
      "collapsed_sections": [],
      "name": "Screening_Assignment.ipynb",
      "provenance": []
    },
    "kernelspec": {
      "display_name": "Python 3",
      "name": "python3"
    },
    "language_info": {
      "codemirror_mode": {
        "name": "ipython",
        "version": 3
      },
      "file_extension": ".py",
      "mimetype": "text/x-python",
      "name": "python",
      "nbconvert_exporter": "python",
      "pygments_lexer": "ipython3",
      "version": "3.8.12"
    }
  },
  "nbformat": 4,
  "nbformat_minor": 0
}
